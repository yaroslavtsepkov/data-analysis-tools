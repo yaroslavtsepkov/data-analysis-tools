{
  "nbformat": 4,
  "nbformat_minor": 0,
  "metadata": {
    "kernelspec": {
      "name": "python385jvsc74a57bd0b473de2061af7b631e395c337f4e7195db1324f9898b82bd0bcbbfeb0c408a9a",
      "display_name": "Python 3.8.5 64-bit ('base': conda)"
    },
    "language_info": {
      "codemirror_mode": {
        "name": "ipython",
        "version": 3
      },
      "file_extension": ".py",
      "mimetype": "text/x-python",
      "name": "python",
      "nbconvert_exporter": "python",
      "pygments_lexer": "ipython3",
      "version": "3.8.5-final"
    },
    "colab": {
      "name": "05-tree-tsepkov-yaroslav.ipynb",
      "provenance": [],
      "collapsed_sections": []
    }
  },
  "cells": [
    {
      "cell_type": "code",
      "metadata": {
        "id": "vT-ebC4IznSL"
      },
      "source": [
        "import pandas as pd\n",
        "import random\n",
        "import numpy as np\n",
        "random.seed(13)\n",
        "np.random.seed(13)"
      ],
      "execution_count": 1,
      "outputs": []
    },
    {
      "cell_type": "markdown",
      "metadata": {
        "id": "92YojsJfznSc"
      },
      "source": [
        "1.0. Для вашего датасета преобразовать категориальные признаки в бинарные с помощью pd.factorize / pd.get_dummies"
      ]
    },
    {
      "cell_type": "code",
      "metadata": {
        "colab": {
          "base_uri": "https://localhost:8080/",
          "height": 241
        },
        "id": "KC3qPOZ8znSe",
        "outputId": "27b7880a-a94c-4fd8-c911-bb8d5f4aaf46"
      },
      "source": [
        "path = '/content/abalone.data'\n",
        "abalone = pd.read_csv(path)\n",
        "print(f'Sex unique: {abalone.Sex.unique()}')\n",
        "abalone.head()"
      ],
      "execution_count": 2,
      "outputs": [
        {
          "output_type": "stream",
          "text": [
            "Sex unique: ['M' 'F' 'I']\n"
          ],
          "name": "stdout"
        },
        {
          "output_type": "execute_result",
          "data": {
            "text/html": [
              "<div>\n",
              "<style scoped>\n",
              "    .dataframe tbody tr th:only-of-type {\n",
              "        vertical-align: middle;\n",
              "    }\n",
              "\n",
              "    .dataframe tbody tr th {\n",
              "        vertical-align: top;\n",
              "    }\n",
              "\n",
              "    .dataframe thead th {\n",
              "        text-align: right;\n",
              "    }\n",
              "</style>\n",
              "<table border=\"1\" class=\"dataframe\">\n",
              "  <thead>\n",
              "    <tr style=\"text-align: right;\">\n",
              "      <th></th>\n",
              "      <th>Sex</th>\n",
              "      <th>Length</th>\n",
              "      <th>Diameter</th>\n",
              "      <th>Height</th>\n",
              "      <th>Whole weight</th>\n",
              "      <th>Shucked weight</th>\n",
              "      <th>Viscera weight</th>\n",
              "      <th>Shell weight</th>\n",
              "      <th>Rings</th>\n",
              "    </tr>\n",
              "  </thead>\n",
              "  <tbody>\n",
              "    <tr>\n",
              "      <th>0</th>\n",
              "      <td>M</td>\n",
              "      <td>0.455</td>\n",
              "      <td>0.365</td>\n",
              "      <td>0.095</td>\n",
              "      <td>0.5140</td>\n",
              "      <td>0.2245</td>\n",
              "      <td>0.1010</td>\n",
              "      <td>0.150</td>\n",
              "      <td>15</td>\n",
              "    </tr>\n",
              "    <tr>\n",
              "      <th>1</th>\n",
              "      <td>M</td>\n",
              "      <td>0.350</td>\n",
              "      <td>0.265</td>\n",
              "      <td>0.090</td>\n",
              "      <td>0.2255</td>\n",
              "      <td>0.0995</td>\n",
              "      <td>0.0485</td>\n",
              "      <td>0.070</td>\n",
              "      <td>7</td>\n",
              "    </tr>\n",
              "    <tr>\n",
              "      <th>2</th>\n",
              "      <td>F</td>\n",
              "      <td>0.530</td>\n",
              "      <td>0.420</td>\n",
              "      <td>0.135</td>\n",
              "      <td>0.6770</td>\n",
              "      <td>0.2565</td>\n",
              "      <td>0.1415</td>\n",
              "      <td>0.210</td>\n",
              "      <td>9</td>\n",
              "    </tr>\n",
              "    <tr>\n",
              "      <th>3</th>\n",
              "      <td>M</td>\n",
              "      <td>0.440</td>\n",
              "      <td>0.365</td>\n",
              "      <td>0.125</td>\n",
              "      <td>0.5160</td>\n",
              "      <td>0.2155</td>\n",
              "      <td>0.1140</td>\n",
              "      <td>0.155</td>\n",
              "      <td>10</td>\n",
              "    </tr>\n",
              "    <tr>\n",
              "      <th>4</th>\n",
              "      <td>I</td>\n",
              "      <td>0.330</td>\n",
              "      <td>0.255</td>\n",
              "      <td>0.080</td>\n",
              "      <td>0.2050</td>\n",
              "      <td>0.0895</td>\n",
              "      <td>0.0395</td>\n",
              "      <td>0.055</td>\n",
              "      <td>7</td>\n",
              "    </tr>\n",
              "  </tbody>\n",
              "</table>\n",
              "</div>"
            ],
            "text/plain": [
              "  Sex  Length  Diameter  ...  Viscera weight  Shell weight  Rings\n",
              "0   M   0.455     0.365  ...          0.1010         0.150     15\n",
              "1   M   0.350     0.265  ...          0.0485         0.070      7\n",
              "2   F   0.530     0.420  ...          0.1415         0.210      9\n",
              "3   M   0.440     0.365  ...          0.1140         0.155     10\n",
              "4   I   0.330     0.255  ...          0.0395         0.055      7\n",
              "\n",
              "[5 rows x 9 columns]"
            ]
          },
          "metadata": {
            "tags": []
          },
          "execution_count": 2
        }
      ]
    },
    {
      "cell_type": "code",
      "metadata": {
        "colab": {
          "base_uri": "https://localhost:8080/"
        },
        "id": "xbIPY8-z316u",
        "outputId": "09563c0e-4901-4c6b-9b4d-37de92247cf0"
      },
      "source": [
        "# Посмотрим на баланс классов\n",
        "# В данном случае достаточно метрики accuracy, классы хорошо сбалансированы\n",
        "abalone.Sex.value_counts() "
      ],
      "execution_count": 3,
      "outputs": [
        {
          "output_type": "execute_result",
          "data": {
            "text/plain": [
              "M    1528\n",
              "I    1342\n",
              "F    1307\n",
              "Name: Sex, dtype: int64"
            ]
          },
          "metadata": {
            "tags": []
          },
          "execution_count": 3
        }
      ]
    },
    {
      "cell_type": "code",
      "metadata": {
        "colab": {
          "base_uri": "https://localhost:8080/",
          "height": 241
        },
        "id": "3kW_uXrXznSk",
        "outputId": "445da69d-4153-4e1f-9d03-39d67acb3533"
      },
      "source": [
        "codes, uniques = pd.factorize(abalone.Sex)\n",
        "abalone.Sex = codes\n",
        "print(f'Sex unique: {abalone.Sex.unique()}')\n",
        "abalone.head()"
      ],
      "execution_count": 4,
      "outputs": [
        {
          "output_type": "stream",
          "text": [
            "Sex unique: [0 1 2]\n"
          ],
          "name": "stdout"
        },
        {
          "output_type": "execute_result",
          "data": {
            "text/html": [
              "<div>\n",
              "<style scoped>\n",
              "    .dataframe tbody tr th:only-of-type {\n",
              "        vertical-align: middle;\n",
              "    }\n",
              "\n",
              "    .dataframe tbody tr th {\n",
              "        vertical-align: top;\n",
              "    }\n",
              "\n",
              "    .dataframe thead th {\n",
              "        text-align: right;\n",
              "    }\n",
              "</style>\n",
              "<table border=\"1\" class=\"dataframe\">\n",
              "  <thead>\n",
              "    <tr style=\"text-align: right;\">\n",
              "      <th></th>\n",
              "      <th>Sex</th>\n",
              "      <th>Length</th>\n",
              "      <th>Diameter</th>\n",
              "      <th>Height</th>\n",
              "      <th>Whole weight</th>\n",
              "      <th>Shucked weight</th>\n",
              "      <th>Viscera weight</th>\n",
              "      <th>Shell weight</th>\n",
              "      <th>Rings</th>\n",
              "    </tr>\n",
              "  </thead>\n",
              "  <tbody>\n",
              "    <tr>\n",
              "      <th>0</th>\n",
              "      <td>0</td>\n",
              "      <td>0.455</td>\n",
              "      <td>0.365</td>\n",
              "      <td>0.095</td>\n",
              "      <td>0.5140</td>\n",
              "      <td>0.2245</td>\n",
              "      <td>0.1010</td>\n",
              "      <td>0.150</td>\n",
              "      <td>15</td>\n",
              "    </tr>\n",
              "    <tr>\n",
              "      <th>1</th>\n",
              "      <td>0</td>\n",
              "      <td>0.350</td>\n",
              "      <td>0.265</td>\n",
              "      <td>0.090</td>\n",
              "      <td>0.2255</td>\n",
              "      <td>0.0995</td>\n",
              "      <td>0.0485</td>\n",
              "      <td>0.070</td>\n",
              "      <td>7</td>\n",
              "    </tr>\n",
              "    <tr>\n",
              "      <th>2</th>\n",
              "      <td>1</td>\n",
              "      <td>0.530</td>\n",
              "      <td>0.420</td>\n",
              "      <td>0.135</td>\n",
              "      <td>0.6770</td>\n",
              "      <td>0.2565</td>\n",
              "      <td>0.1415</td>\n",
              "      <td>0.210</td>\n",
              "      <td>9</td>\n",
              "    </tr>\n",
              "    <tr>\n",
              "      <th>3</th>\n",
              "      <td>0</td>\n",
              "      <td>0.440</td>\n",
              "      <td>0.365</td>\n",
              "      <td>0.125</td>\n",
              "      <td>0.5160</td>\n",
              "      <td>0.2155</td>\n",
              "      <td>0.1140</td>\n",
              "      <td>0.155</td>\n",
              "      <td>10</td>\n",
              "    </tr>\n",
              "    <tr>\n",
              "      <th>4</th>\n",
              "      <td>2</td>\n",
              "      <td>0.330</td>\n",
              "      <td>0.255</td>\n",
              "      <td>0.080</td>\n",
              "      <td>0.2050</td>\n",
              "      <td>0.0895</td>\n",
              "      <td>0.0395</td>\n",
              "      <td>0.055</td>\n",
              "      <td>7</td>\n",
              "    </tr>\n",
              "  </tbody>\n",
              "</table>\n",
              "</div>"
            ],
            "text/plain": [
              "   Sex  Length  Diameter  ...  Viscera weight  Shell weight  Rings\n",
              "0    0   0.455     0.365  ...          0.1010         0.150     15\n",
              "1    0   0.350     0.265  ...          0.0485         0.070      7\n",
              "2    1   0.530     0.420  ...          0.1415         0.210      9\n",
              "3    0   0.440     0.365  ...          0.1140         0.155     10\n",
              "4    2   0.330     0.255  ...          0.0395         0.055      7\n",
              "\n",
              "[5 rows x 9 columns]"
            ]
          },
          "metadata": {
            "tags": []
          },
          "execution_count": 4
        }
      ]
    },
    {
      "cell_type": "markdown",
      "metadata": {
        "id": "spdHycsFznSn"
      },
      "source": [
        "1.1. С помощью sklearn.preprocessing.StandardScaler нормализовать значения признаков и построить для нормализовапнного датасета KNeighborsClassifier (без использования конвееров)"
      ]
    },
    {
      "cell_type": "code",
      "metadata": {
        "id": "FXgT3jevznSp"
      },
      "source": [
        "from sklearn.preprocessing import StandardScaler\n",
        "from sklearn.neighbors import KNeighborsClassifier\n",
        "from sklearn.model_selection import train_test_split\n",
        "from sklearn.metrics import classification_report as clfrep"
      ],
      "execution_count": 5,
      "outputs": []
    },
    {
      "cell_type": "code",
      "metadata": {
        "colab": {
          "base_uri": "https://localhost:8080/"
        },
        "id": "E-KW4MYbznSr",
        "outputId": "d9658271-f9ba-4ba2-bb78-8fa4f86556e0"
      },
      "source": [
        "scaler = StandardScaler()\n",
        "features = scaler.fit_transform(abalone.iloc[:,1:].values)\n",
        "print(f'shape of features:\\n {features.shape}')\n",
        "print(f'sample features:\\n {features[:5]}')"
      ],
      "execution_count": 6,
      "outputs": [
        {
          "output_type": "stream",
          "text": [
            "shape of features:\n",
            " (4177, 8)\n",
            "sample features:\n",
            " [[-0.57455813 -0.43214879 -1.06442415 -0.64189823 -0.60768536 -0.72621157\n",
            "  -0.63821689  1.57154357]\n",
            " [-1.44898585 -1.439929   -1.18397831 -1.23027711 -1.17090984 -1.20522124\n",
            "  -1.21298732 -0.91001299]\n",
            " [ 0.05003309  0.12213032 -0.10799087 -0.30946926 -0.4634999  -0.35668983\n",
            "  -0.20713907 -0.28962385]\n",
            " [-0.69947638 -0.43214879 -0.34709919 -0.63781934 -0.64823753 -0.60759966\n",
            "  -0.60229374  0.02057072]\n",
            " [-1.61554351 -1.54070702 -1.42308663 -1.27208566 -1.2159678  -1.28733718\n",
            "  -1.32075677 -0.91001299]]\n"
          ],
          "name": "stdout"
        }
      ]
    },
    {
      "cell_type": "code",
      "metadata": {
        "id": "yuHHsDbHznSt"
      },
      "source": [
        "X_train, X_test, y_train, y_test = train_test_split(features, abalone.Sex.values, shuffle=True)"
      ],
      "execution_count": 7,
      "outputs": []
    },
    {
      "cell_type": "code",
      "metadata": {
        "colab": {
          "base_uri": "https://localhost:8080/"
        },
        "id": "ilw5oK6KznSv",
        "outputId": "a42d0642-c611-4615-f3c5-cad9b8648a29"
      },
      "source": [
        "clf_knn = KNeighborsClassifier().fit(X_train, y_train)\n",
        "clf_knn.score(X_test, y_test)"
      ],
      "execution_count": 8,
      "outputs": [
        {
          "output_type": "execute_result",
          "data": {
            "text/plain": [
              "0.5358851674641149"
            ]
          },
          "metadata": {
            "tags": []
          },
          "execution_count": 8
        }
      ]
    },
    {
      "cell_type": "markdown",
      "metadata": {
        "id": "oh4ncgOXznSx"
      },
      "source": [
        "1.2. То же самое и использованием sklearn.pipeline.Pipeline"
      ]
    },
    {
      "cell_type": "code",
      "metadata": {
        "id": "vOFQg2KFznSx"
      },
      "source": [
        "from sklearn.pipeline import Pipeline"
      ],
      "execution_count": 9,
      "outputs": []
    },
    {
      "cell_type": "code",
      "metadata": {
        "colab": {
          "base_uri": "https://localhost:8080/"
        },
        "id": "nROreUmdznS2",
        "outputId": "1bfdaa51-2fdc-4e31-d828-76192d3ce49d"
      },
      "source": [
        "pipe = Pipeline([('scaler',StandardScaler()),('clf', KNeighborsClassifier())])\n",
        "pipe.fit(X_train,y_train)\n",
        "pipe.score(X_test, y_test)"
      ],
      "execution_count": 10,
      "outputs": [
        {
          "output_type": "execute_result",
          "data": {
            "text/plain": [
              "0.5358851674641149"
            ]
          },
          "metadata": {
            "tags": []
          },
          "execution_count": 10
        }
      ]
    },
    {
      "cell_type": "markdown",
      "metadata": {
        "id": "NlhuW8WEznS4"
      },
      "source": [
        "1.3. С помощью GridSearchCV произвести подбор гиперпараметра KNeighborsClassifier (n_neighbors) и выведите значение гиперпараметра и метрику для наилучшей модели"
      ]
    },
    {
      "cell_type": "code",
      "metadata": {
        "id": "7By0Z1YeznS6"
      },
      "source": [
        "from sklearn.model_selection import GridSearchCV"
      ],
      "execution_count": 11,
      "outputs": []
    },
    {
      "cell_type": "code",
      "metadata": {
        "colab": {
          "base_uri": "https://localhost:8080/"
        },
        "id": "nAednAd8znS7",
        "outputId": "3cc05c73-9404-4642-ed19-9e06db9a4bbf"
      },
      "source": [
        "params = {'n_neighbors':range(1, 20)}\n",
        "grid = GridSearchCV(KNeighborsClassifier(), params, cv=5, verbose=1).fit(X_train, y_train)"
      ],
      "execution_count": 12,
      "outputs": [
        {
          "output_type": "stream",
          "text": [
            "Fitting 5 folds for each of 19 candidates, totalling 95 fits\n"
          ],
          "name": "stdout"
        },
        {
          "output_type": "stream",
          "text": [
            "[Parallel(n_jobs=1)]: Using backend SequentialBackend with 1 concurrent workers.\n",
            "[Parallel(n_jobs=1)]: Done  95 out of  95 | elapsed:    3.0s finished\n"
          ],
          "name": "stderr"
        }
      ]
    },
    {
      "cell_type": "code",
      "metadata": {
        "colab": {
          "base_uri": "https://localhost:8080/"
        },
        "id": "d8LLzYuNznS9",
        "outputId": "742c7f33-539d-483c-b14d-6079f60e3ec1"
      },
      "source": [
        "grid.best_params_, grid.best_score_"
      ],
      "execution_count": 13,
      "outputs": [
        {
          "output_type": "execute_result",
          "data": {
            "text/plain": [
              "({'n_neighbors': 16}, 0.5456614233812822)"
            ]
          },
          "metadata": {
            "tags": []
          },
          "execution_count": 13
        }
      ]
    },
    {
      "cell_type": "markdown",
      "metadata": {
        "id": "-kG6YWfxznS_"
      },
      "source": [
        "2.1. Продемонстрировать работу DecisionTreeClassifier, посчитать метрики качества на отложенной выборке"
      ]
    },
    {
      "cell_type": "code",
      "metadata": {
        "id": "CbsF3hFBznS_"
      },
      "source": [
        "from sklearn.tree import DecisionTreeClassifier"
      ],
      "execution_count": 14,
      "outputs": []
    },
    {
      "cell_type": "code",
      "metadata": {
        "colab": {
          "base_uri": "https://localhost:8080/"
        },
        "id": "7-T_4kQjznTA",
        "outputId": "14c13c72-a0b6-417f-dd49-12cc6c926363"
      },
      "source": [
        "clf_dt = DecisionTreeClassifier().fit(X_train,y_train)\n",
        "clf_dt.score(X_test, y_test)"
      ],
      "execution_count": 15,
      "outputs": [
        {
          "output_type": "execute_result",
          "data": {
            "text/plain": [
              "0.509090909090909"
            ]
          },
          "metadata": {
            "tags": []
          },
          "execution_count": 15
        }
      ]
    },
    {
      "cell_type": "markdown",
      "metadata": {
        "id": "cUiQq30MznTB"
      },
      "source": [
        "2.2. С помощью GridSearchCV произвести подбор гиперпараметров для поиск наилучшего дерева (перебрать max_depth, max_features и может быть что-то ещё)"
      ]
    },
    {
      "cell_type": "code",
      "metadata": {
        "colab": {
          "base_uri": "https://localhost:8080/"
        },
        "id": "FANpkhMxznTB",
        "outputId": "5db8aa65-e9f0-4c2d-c7c7-dae80b98d273"
      },
      "source": [
        "params = {'max_depth':range(2,10,2), 'min_samples_split':range(2,10,2), 'max_features':range(2, 8,2)}\n",
        "grid = GridSearchCV(DecisionTreeClassifier(), params, cv=5, verbose=1).fit(X_train, y_train)"
      ],
      "execution_count": 16,
      "outputs": [
        {
          "output_type": "stream",
          "text": [
            "[Parallel(n_jobs=1)]: Using backend SequentialBackend with 1 concurrent workers.\n"
          ],
          "name": "stderr"
        },
        {
          "output_type": "stream",
          "text": [
            "Fitting 5 folds for each of 48 candidates, totalling 240 fits\n"
          ],
          "name": "stdout"
        },
        {
          "output_type": "stream",
          "text": [
            "[Parallel(n_jobs=1)]: Done 240 out of 240 | elapsed:    1.2s finished\n"
          ],
          "name": "stderr"
        }
      ]
    },
    {
      "cell_type": "code",
      "metadata": {
        "colab": {
          "base_uri": "https://localhost:8080/"
        },
        "id": "KnMyKFs_znTC",
        "outputId": "ea71717f-c83d-4de4-d35c-65f62b1cbbbd"
      },
      "source": [
        "grid.score(X_test,y_test)"
      ],
      "execution_count": 17,
      "outputs": [
        {
          "output_type": "execute_result",
          "data": {
            "text/plain": [
              "0.5598086124401914"
            ]
          },
          "metadata": {
            "tags": []
          },
          "execution_count": 17
        }
      ]
    },
    {
      "cell_type": "markdown",
      "metadata": {
        "id": "yiCw3CsTznTD"
      },
      "source": [
        "Для полученного наилучшего дерева построить график feature_importances и дополнительно напечатать 3 наиболее важных признака, отсортиров их по убыванию по важности"
      ]
    },
    {
      "cell_type": "code",
      "metadata": {
        "id": "MEYNpfU1znTE"
      },
      "source": [
        "# import matplotlib.pyplot as plt\n",
        "# import numpy as np\n",
        "\n",
        "# features_imp = grid.best_estimator_.feature_importances_.sort()\n",
        "\n",
        "# plt.boxplot(features_imp)"
      ],
      "execution_count": 18,
      "outputs": []
    },
    {
      "cell_type": "markdown",
      "metadata": {
        "id": "nYrfFZFcznTF"
      },
      "source": [
        "3.1. Продемонстрировать работу случайного леса RandomForestClassifier"
      ]
    },
    {
      "cell_type": "code",
      "metadata": {
        "colab": {
          "base_uri": "https://localhost:8080/"
        },
        "id": "RkVUGbFFznTH",
        "outputId": "4beb1574-424b-4cd4-cc74-11dc91509e06"
      },
      "source": [
        "from sklearn.ensemble import RandomForestClassifier\n",
        "forest = RandomForestClassifier().fit(X_train,y_train)\n",
        "forest.score(X_test,y_test)"
      ],
      "execution_count": 19,
      "outputs": [
        {
          "output_type": "execute_result",
          "data": {
            "text/plain": [
              "0.5464114832535886"
            ]
          },
          "metadata": {
            "tags": []
          },
          "execution_count": 19
        }
      ]
    },
    {
      "cell_type": "code",
      "metadata": {
        "colab": {
          "base_uri": "https://localhost:8080/"
        },
        "id": "fQfR2YQ_znTJ",
        "outputId": "8ba5cc7a-3b43-4f29-d7e6-7c57b736aa26"
      },
      "source": [
        "forest_params={'n_estimators':range(5, 100, 5), 'max_depth':range(2, 10, 2)}\n",
        "grid = GridSearchCV(RandomForestClassifier(), forest_params, cv=5, n_jobs=-1, verbose=True).fit(X_train,y_train)\n",
        "grid.score(X_test, y_test)"
      ],
      "execution_count": 24,
      "outputs": [
        {
          "output_type": "stream",
          "text": [
            "Fitting 5 folds for each of 76 candidates, totalling 380 fits\n"
          ],
          "name": "stdout"
        },
        {
          "output_type": "stream",
          "text": [
            "[Parallel(n_jobs=-1)]: Using backend LokyBackend with 2 concurrent workers.\n",
            "[Parallel(n_jobs=-1)]: Done  76 tasks      | elapsed:    6.5s\n",
            "[Parallel(n_jobs=-1)]: Done 380 out of 380 | elapsed:   44.1s finished\n"
          ],
          "name": "stderr"
        },
        {
          "output_type": "execute_result",
          "data": {
            "text/plain": [
              "0.5665071770334928"
            ]
          },
          "metadata": {
            "tags": []
          },
          "execution_count": 24
        }
      ]
    },
    {
      "cell_type": "markdown",
      "metadata": {
        "id": "D3ZB6XDZ4qli"
      },
      "source": [
        "# Итог\n",
        "Наиболее точной моделью при учете метрики accuracy является RandomForest."
      ]
    }
  ]
}