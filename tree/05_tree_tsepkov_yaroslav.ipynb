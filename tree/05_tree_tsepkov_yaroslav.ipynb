{
<<<<<<< HEAD
  "nbformat": 4,
  "nbformat_minor": 0,
  "metadata": {
    "colab": {
      "name": "05-tree-tsepkov-yaroslav.ipynb",
      "provenance": [],
      "collapsed_sections": [],
      "toc_visible": true
    },
    "kernelspec": {
      "display_name": "Python 3",
      "language": "python",
      "name": "python3"
    },
    "language_info": {
      "codemirror_mode": {
        "name": "ipython",
        "version": 3
      },
      "file_extension": ".py",
      "mimetype": "text/x-python",
      "name": "python",
      "nbconvert_exporter": "python",
      "pygments_lexer": "ipython3",
      "version": "3.8.5"
    }
  },
  "cells": [
    {
      "cell_type": "markdown",
      "metadata": {
        "id": "wzrhvg9ncJ6y"
      },
      "source": [
        "# ПОДРОБНОЕ ОПИСАНИЕ ДАННЫХ В ФАЙЛЕ abalone.name"
      ]
    },
    {
      "cell_type": "code",
      "metadata": {
        "id": "vT-ebC4IznSL"
      },
      "source": [
        "import pandas as pd\n",
        "import random\n",
        "import numpy as np\n",
        "random.seed(13)\n",
        "np.random.seed(13)"
      ],
      "execution_count": 1,
      "outputs": []
    },
    {
      "cell_type": "markdown",
      "metadata": {
        "id": "92YojsJfznSc"
      },
      "source": [
        "1.0. Для вашего датасета преобразовать категориальные признаки в бинарные с помощью pd.factorize / pd.get_dummies"
      ]
    },
    {
      "cell_type": "code",
      "metadata": {
        "colab": {
          "base_uri": "https://localhost:8080/",
          "height": 241
        },
        "id": "KC3qPOZ8znSe",
        "outputId": "42b6f81f-637b-4806-b48c-481482437e67"
      },
      "source": [
        "path = 'abalone.data'\n",
        "abalone = pd.read_csv(path)\n",
        "print(f'Sex unique: {abalone.Sex.unique()}')\n",
        "abalone.head()"
      ],
      "execution_count": 2,
      "outputs": [
        {
          "output_type": "stream",
          "text": [
            "Sex unique: ['M' 'F' 'I']\n"
          ],
          "name": "stdout"
        },
        {
          "output_type": "execute_result",
          "data": {
            "text/html": [
              "<div>\n",
              "<style scoped>\n",
              "    .dataframe tbody tr th:only-of-type {\n",
              "        vertical-align: middle;\n",
              "    }\n",
              "\n",
              "    .dataframe tbody tr th {\n",
              "        vertical-align: top;\n",
              "    }\n",
              "\n",
              "    .dataframe thead th {\n",
              "        text-align: right;\n",
              "    }\n",
              "</style>\n",
              "<table border=\"1\" class=\"dataframe\">\n",
              "  <thead>\n",
              "    <tr style=\"text-align: right;\">\n",
              "      <th></th>\n",
              "      <th>Sex</th>\n",
              "      <th>Length</th>\n",
              "      <th>Diameter</th>\n",
              "      <th>Height</th>\n",
              "      <th>Whole weight</th>\n",
              "      <th>Shucked weight</th>\n",
              "      <th>Viscera weight</th>\n",
              "      <th>Shell weight</th>\n",
              "      <th>Rings</th>\n",
              "    </tr>\n",
              "  </thead>\n",
              "  <tbody>\n",
              "    <tr>\n",
              "      <th>0</th>\n",
              "      <td>M</td>\n",
              "      <td>0.455</td>\n",
              "      <td>0.365</td>\n",
              "      <td>0.095</td>\n",
              "      <td>0.5140</td>\n",
              "      <td>0.2245</td>\n",
              "      <td>0.1010</td>\n",
              "      <td>0.150</td>\n",
              "      <td>15</td>\n",
              "    </tr>\n",
              "    <tr>\n",
              "      <th>1</th>\n",
              "      <td>M</td>\n",
              "      <td>0.350</td>\n",
              "      <td>0.265</td>\n",
              "      <td>0.090</td>\n",
              "      <td>0.2255</td>\n",
              "      <td>0.0995</td>\n",
              "      <td>0.0485</td>\n",
              "      <td>0.070</td>\n",
              "      <td>7</td>\n",
              "    </tr>\n",
              "    <tr>\n",
              "      <th>2</th>\n",
              "      <td>F</td>\n",
              "      <td>0.530</td>\n",
              "      <td>0.420</td>\n",
              "      <td>0.135</td>\n",
              "      <td>0.6770</td>\n",
              "      <td>0.2565</td>\n",
              "      <td>0.1415</td>\n",
              "      <td>0.210</td>\n",
              "      <td>9</td>\n",
              "    </tr>\n",
              "    <tr>\n",
              "      <th>3</th>\n",
              "      <td>M</td>\n",
              "      <td>0.440</td>\n",
              "      <td>0.365</td>\n",
              "      <td>0.125</td>\n",
              "      <td>0.5160</td>\n",
              "      <td>0.2155</td>\n",
              "      <td>0.1140</td>\n",
              "      <td>0.155</td>\n",
              "      <td>10</td>\n",
              "    </tr>\n",
              "    <tr>\n",
              "      <th>4</th>\n",
              "      <td>I</td>\n",
              "      <td>0.330</td>\n",
              "      <td>0.255</td>\n",
              "      <td>0.080</td>\n",
              "      <td>0.2050</td>\n",
              "      <td>0.0895</td>\n",
              "      <td>0.0395</td>\n",
              "      <td>0.055</td>\n",
              "      <td>7</td>\n",
              "    </tr>\n",
              "  </tbody>\n",
              "</table>\n",
              "</div>"
            ],
            "text/plain": [
              "  Sex  Length  Diameter  ...  Viscera weight  Shell weight  Rings\n",
              "0   M   0.455     0.365  ...          0.1010         0.150     15\n",
              "1   M   0.350     0.265  ...          0.0485         0.070      7\n",
              "2   F   0.530     0.420  ...          0.1415         0.210      9\n",
              "3   M   0.440     0.365  ...          0.1140         0.155     10\n",
              "4   I   0.330     0.255  ...          0.0395         0.055      7\n",
              "\n",
              "[5 rows x 9 columns]"
            ]
          },
          "metadata": {
            "tags": []
          },
          "execution_count": 2
        }
      ]
=======
 "cells": [
  {
   "cell_type": "code",
   "execution_count": 1,
   "metadata": {
    "id": "vT-ebC4IznSL"
   },
   "outputs": [],
   "source": [
    "import pandas as pd\n",
    "import random\n",
    "import numpy as np\n",
    "random.seed(13)\n",
    "np.random.seed(13)"
   ]
  },
  {
   "cell_type": "markdown",
   "metadata": {
    "id": "92YojsJfznSc"
   },
   "source": [
    "1.0. Для вашего датасета преобразовать категориальные признаки в бинарные с помощью pd.factorize / pd.get_dummies"
   ]
  },
  {
   "cell_type": "code",
   "execution_count": 3,
   "metadata": {
    "colab": {
     "base_uri": "https://localhost:8080/",
     "height": 241
>>>>>>> 7d8d0426a402e0efdafa5fc48d0b80457a2cfb2c
    },
    "id": "KC3qPOZ8znSe",
    "outputId": "27b7880a-a94c-4fd8-c911-bb8d5f4aaf46"
   },
   "outputs": [
    {
<<<<<<< HEAD
      "cell_type": "code",
      "metadata": {
        "colab": {
          "base_uri": "https://localhost:8080/"
        },
        "id": "xbIPY8-z316u",
        "outputId": "70c8f063-0be2-4f4b-c956-93b70b1ab637"
      },
      "source": [
        "# Посмотрим на баланс классов\n",
        "# В данном случае достаточно метрики accuracy, классы хорошо сбалансированы\n",
        "abalone.Sex.value_counts() "
      ],
      "execution_count": 3,
      "outputs": [
        {
          "output_type": "execute_result",
          "data": {
            "text/plain": [
              "M    1528\n",
              "I    1342\n",
              "F    1307\n",
              "Name: Sex, dtype: int64"
            ]
          },
          "metadata": {
            "tags": []
          },
          "execution_count": 3
        }
      ]
    },
    {
      "cell_type": "code",
      "metadata": {
        "colab": {
          "base_uri": "https://localhost:8080/",
          "height": 241
        },
        "id": "3kW_uXrXznSk",
        "outputId": "f9ee2a31-160b-4a8d-83b5-c01bf51c3244"
      },
      "source": [
        "print(f'Sex unique: {abalone.Sex.unique()}')\n",
        "abalone = pd.get_dummies(data=abalone)\n",
        "abalone.head()"
      ],
      "execution_count": 4,
      "outputs": [
        {
          "output_type": "stream",
          "text": [
            "Sex unique: ['M' 'F' 'I']\n"
          ],
          "name": "stdout"
        },
        {
          "output_type": "execute_result",
          "data": {
            "text/html": [
              "<div>\n",
              "<style scoped>\n",
              "    .dataframe tbody tr th:only-of-type {\n",
              "        vertical-align: middle;\n",
              "    }\n",
              "\n",
              "    .dataframe tbody tr th {\n",
              "        vertical-align: top;\n",
              "    }\n",
              "\n",
              "    .dataframe thead th {\n",
              "        text-align: right;\n",
              "    }\n",
              "</style>\n",
              "<table border=\"1\" class=\"dataframe\">\n",
              "  <thead>\n",
              "    <tr style=\"text-align: right;\">\n",
              "      <th></th>\n",
              "      <th>Length</th>\n",
              "      <th>Diameter</th>\n",
              "      <th>Height</th>\n",
              "      <th>Whole weight</th>\n",
              "      <th>Shucked weight</th>\n",
              "      <th>Viscera weight</th>\n",
              "      <th>Shell weight</th>\n",
              "      <th>Rings</th>\n",
              "      <th>Sex_F</th>\n",
              "      <th>Sex_I</th>\n",
              "      <th>Sex_M</th>\n",
              "    </tr>\n",
              "  </thead>\n",
              "  <tbody>\n",
              "    <tr>\n",
              "      <th>0</th>\n",
              "      <td>0.455</td>\n",
              "      <td>0.365</td>\n",
              "      <td>0.095</td>\n",
              "      <td>0.5140</td>\n",
              "      <td>0.2245</td>\n",
              "      <td>0.1010</td>\n",
              "      <td>0.150</td>\n",
              "      <td>15</td>\n",
              "      <td>0</td>\n",
              "      <td>0</td>\n",
              "      <td>1</td>\n",
              "    </tr>\n",
              "    <tr>\n",
              "      <th>1</th>\n",
              "      <td>0.350</td>\n",
              "      <td>0.265</td>\n",
              "      <td>0.090</td>\n",
              "      <td>0.2255</td>\n",
              "      <td>0.0995</td>\n",
              "      <td>0.0485</td>\n",
              "      <td>0.070</td>\n",
              "      <td>7</td>\n",
              "      <td>0</td>\n",
              "      <td>0</td>\n",
              "      <td>1</td>\n",
              "    </tr>\n",
              "    <tr>\n",
              "      <th>2</th>\n",
              "      <td>0.530</td>\n",
              "      <td>0.420</td>\n",
              "      <td>0.135</td>\n",
              "      <td>0.6770</td>\n",
              "      <td>0.2565</td>\n",
              "      <td>0.1415</td>\n",
              "      <td>0.210</td>\n",
              "      <td>9</td>\n",
              "      <td>1</td>\n",
              "      <td>0</td>\n",
              "      <td>0</td>\n",
              "    </tr>\n",
              "    <tr>\n",
              "      <th>3</th>\n",
              "      <td>0.440</td>\n",
              "      <td>0.365</td>\n",
              "      <td>0.125</td>\n",
              "      <td>0.5160</td>\n",
              "      <td>0.2155</td>\n",
              "      <td>0.1140</td>\n",
              "      <td>0.155</td>\n",
              "      <td>10</td>\n",
              "      <td>0</td>\n",
              "      <td>0</td>\n",
              "      <td>1</td>\n",
              "    </tr>\n",
              "    <tr>\n",
              "      <th>4</th>\n",
              "      <td>0.330</td>\n",
              "      <td>0.255</td>\n",
              "      <td>0.080</td>\n",
              "      <td>0.2050</td>\n",
              "      <td>0.0895</td>\n",
              "      <td>0.0395</td>\n",
              "      <td>0.055</td>\n",
              "      <td>7</td>\n",
              "      <td>0</td>\n",
              "      <td>1</td>\n",
              "      <td>0</td>\n",
              "    </tr>\n",
              "  </tbody>\n",
              "</table>\n",
              "</div>"
            ],
            "text/plain": [
              "   Length  Diameter  Height  Whole weight  ...  Rings  Sex_F  Sex_I  Sex_M\n",
              "0   0.455     0.365   0.095        0.5140  ...     15      0      0      1\n",
              "1   0.350     0.265   0.090        0.2255  ...      7      0      0      1\n",
              "2   0.530     0.420   0.135        0.6770  ...      9      1      0      0\n",
              "3   0.440     0.365   0.125        0.5160  ...     10      0      0      1\n",
              "4   0.330     0.255   0.080        0.2050  ...      7      0      1      0\n",
              "\n",
              "[5 rows x 11 columns]"
            ]
          },
          "metadata": {
            "tags": []
          },
          "execution_count": 4
        }
=======
     "name": "stdout",
     "output_type": "stream",
     "text": [
      "Sex unique: ['M' 'F' 'I']\n"
     ]
    },
    {
     "data": {
      "text/html": [
       "<div>\n",
       "<style scoped>\n",
       "    .dataframe tbody tr th:only-of-type {\n",
       "        vertical-align: middle;\n",
       "    }\n",
       "\n",
       "    .dataframe tbody tr th {\n",
       "        vertical-align: top;\n",
       "    }\n",
       "\n",
       "    .dataframe thead th {\n",
       "        text-align: right;\n",
       "    }\n",
       "</style>\n",
       "<table border=\"1\" class=\"dataframe\">\n",
       "  <thead>\n",
       "    <tr style=\"text-align: right;\">\n",
       "      <th></th>\n",
       "      <th>Sex</th>\n",
       "      <th>Length</th>\n",
       "      <th>Diameter</th>\n",
       "      <th>Height</th>\n",
       "      <th>Whole weight</th>\n",
       "      <th>Shucked weight</th>\n",
       "      <th>Viscera weight</th>\n",
       "      <th>Shell weight</th>\n",
       "      <th>Rings</th>\n",
       "    </tr>\n",
       "  </thead>\n",
       "  <tbody>\n",
       "    <tr>\n",
       "      <th>0</th>\n",
       "      <td>M</td>\n",
       "      <td>0.455</td>\n",
       "      <td>0.365</td>\n",
       "      <td>0.095</td>\n",
       "      <td>0.5140</td>\n",
       "      <td>0.2245</td>\n",
       "      <td>0.1010</td>\n",
       "      <td>0.150</td>\n",
       "      <td>15</td>\n",
       "    </tr>\n",
       "    <tr>\n",
       "      <th>1</th>\n",
       "      <td>M</td>\n",
       "      <td>0.350</td>\n",
       "      <td>0.265</td>\n",
       "      <td>0.090</td>\n",
       "      <td>0.2255</td>\n",
       "      <td>0.0995</td>\n",
       "      <td>0.0485</td>\n",
       "      <td>0.070</td>\n",
       "      <td>7</td>\n",
       "    </tr>\n",
       "    <tr>\n",
       "      <th>2</th>\n",
       "      <td>F</td>\n",
       "      <td>0.530</td>\n",
       "      <td>0.420</td>\n",
       "      <td>0.135</td>\n",
       "      <td>0.6770</td>\n",
       "      <td>0.2565</td>\n",
       "      <td>0.1415</td>\n",
       "      <td>0.210</td>\n",
       "      <td>9</td>\n",
       "    </tr>\n",
       "    <tr>\n",
       "      <th>3</th>\n",
       "      <td>M</td>\n",
       "      <td>0.440</td>\n",
       "      <td>0.365</td>\n",
       "      <td>0.125</td>\n",
       "      <td>0.5160</td>\n",
       "      <td>0.2155</td>\n",
       "      <td>0.1140</td>\n",
       "      <td>0.155</td>\n",
       "      <td>10</td>\n",
       "    </tr>\n",
       "    <tr>\n",
       "      <th>4</th>\n",
       "      <td>I</td>\n",
       "      <td>0.330</td>\n",
       "      <td>0.255</td>\n",
       "      <td>0.080</td>\n",
       "      <td>0.2050</td>\n",
       "      <td>0.0895</td>\n",
       "      <td>0.0395</td>\n",
       "      <td>0.055</td>\n",
       "      <td>7</td>\n",
       "    </tr>\n",
       "  </tbody>\n",
       "</table>\n",
       "</div>"
      ],
      "text/plain": [
       "  Sex  Length  Diameter  Height  Whole weight  Shucked weight  Viscera weight  \\\n",
       "0   M   0.455     0.365   0.095        0.5140          0.2245          0.1010   \n",
       "1   M   0.350     0.265   0.090        0.2255          0.0995          0.0485   \n",
       "2   F   0.530     0.420   0.135        0.6770          0.2565          0.1415   \n",
       "3   M   0.440     0.365   0.125        0.5160          0.2155          0.1140   \n",
       "4   I   0.330     0.255   0.080        0.2050          0.0895          0.0395   \n",
       "\n",
       "   Shell weight  Rings  \n",
       "0         0.150     15  \n",
       "1         0.070      7  \n",
       "2         0.210      9  \n",
       "3         0.155     10  \n",
       "4         0.055      7  "
>>>>>>> 7d8d0426a402e0efdafa5fc48d0b80457a2cfb2c
      ]
     },
     "execution_count": 3,
     "metadata": {},
     "output_type": "execute_result"
    }
   ],
   "source": [
    "path = 'abalone.data'\n",
    "abalone = pd.read_csv(path)\n",
    "print(f'Sex unique: {abalone.Sex.unique()}')\n",
    "abalone.head()"
   ]
  },
  {
   "cell_type": "code",
   "execution_count": 4,
   "metadata": {
    "colab": {
     "base_uri": "https://localhost:8080/"
    },
    "id": "xbIPY8-z316u",
    "outputId": "09563c0e-4901-4c6b-9b4d-37de92247cf0"
   },
   "outputs": [
    {
<<<<<<< HEAD
      "cell_type": "markdown",
      "metadata": {
        "id": "spdHycsFznSn"
      },
      "source": [
        "1.1. С помощью sklearn.preprocessing.StandardScaler нормализовать значения признаков и построить для нормализовапнного датасета KNeighborsClassifier (без использования конвееров)"
      ]
    },
    {
      "cell_type": "code",
      "metadata": {
        "id": "FXgT3jevznSp"
      },
      "source": [
        "from sklearn.preprocessing import StandardScaler\n",
        "from sklearn.neighbors import KNeighborsClassifier\n",
        "from sklearn.model_selection import train_test_split\n",
        "from sklearn.metrics import classification_report as clfrep"
      ],
      "execution_count": 5,
      "outputs": []
    },
    {
      "cell_type": "code",
      "metadata": {
        "colab": {
          "base_uri": "https://localhost:8080/"
        },
        "id": "E-KW4MYbznSr",
        "outputId": "16862b75-7e73-4a82-9120-9c5d01024ab0"
      },
      "source": [
        "scaler = StandardScaler()\n",
        "features = scaler.fit_transform(abalone.iloc[:,:8].values)\n",
        "print(f'shape of features:\\n {features.shape}')\n",
        "print(f'sample features:\\n {features[:5]}')"
      ],
      "execution_count": 6,
      "outputs": [
        {
          "output_type": "stream",
          "text": [
            "shape of features:\n",
            " (4177, 8)\n",
            "sample features:\n",
            " [[-0.57455813 -0.43214879 -1.06442415 -0.64189823 -0.60768536 -0.72621157\n",
            "  -0.63821689  1.57154357]\n",
            " [-1.44898585 -1.439929   -1.18397831 -1.23027711 -1.17090984 -1.20522124\n",
            "  -1.21298732 -0.91001299]\n",
            " [ 0.05003309  0.12213032 -0.10799087 -0.30946926 -0.4634999  -0.35668983\n",
            "  -0.20713907 -0.28962385]\n",
            " [-0.69947638 -0.43214879 -0.34709919 -0.63781934 -0.64823753 -0.60759966\n",
            "  -0.60229374  0.02057072]\n",
            " [-1.61554351 -1.54070702 -1.42308663 -1.27208566 -1.2159678  -1.28733718\n",
            "  -1.32075677 -0.91001299]]\n"
          ],
          "name": "stdout"
        }
=======
     "data": {
      "text/plain": [
       "M    1528\n",
       "I    1342\n",
       "F    1307\n",
       "Name: Sex, dtype: int64"
>>>>>>> 7d8d0426a402e0efdafa5fc48d0b80457a2cfb2c
      ]
     },
     "execution_count": 4,
     "metadata": {},
     "output_type": "execute_result"
    }
   ],
   "source": [
    "# Посмотрим на баланс классов\n",
    "# В данном случае достаточно метрики accuracy, классы хорошо сбалансированы\n",
    "abalone.Sex.value_counts() "
   ]
  },
  {
   "cell_type": "code",
   "execution_count": 5,
   "metadata": {
    "colab": {
     "base_uri": "https://localhost:8080/",
     "height": 241
    },
    "id": "3kW_uXrXznSk",
    "outputId": "445da69d-4153-4e1f-9d03-39d67acb3533"
   },
   "outputs": [
    {
<<<<<<< HEAD
      "cell_type": "code",
      "metadata": {
        "id": "yuHHsDbHznSt"
      },
      "source": [
        "X_train, X_test, y_train, y_test = train_test_split(features, abalone.iloc[:,8:].values, shuffle=True)"
      ],
      "execution_count": 7,
      "outputs": []
    },
    {
      "cell_type": "code",
      "metadata": {
        "colab": {
          "base_uri": "https://localhost:8080/"
        },
        "id": "ilw5oK6KznSv",
        "outputId": "71562faa-4533-4409-e05c-23d4d11bd977"
      },
      "source": [
        "clf_knn = KNeighborsClassifier().fit(X_train, y_train)\n",
        "clf_knn.score(X_test, y_test)"
      ],
      "execution_count": 8,
      "outputs": [
        {
          "output_type": "execute_result",
          "data": {
            "text/plain": [
              "0.4842105263157895"
            ]
          },
          "metadata": {
            "tags": []
          },
          "execution_count": 8
        }
      ]
    },
    {
      "cell_type": "markdown",
      "metadata": {
        "id": "oh4ncgOXznSx"
      },
      "source": [
        "1.2. То же самое и использованием sklearn.pipeline.Pipeline"
=======
     "name": "stdout",
     "output_type": "stream",
     "text": [
      "Sex unique: [0 1 2]\n"
     ]
    },
    {
     "data": {
      "text/html": [
       "<div>\n",
       "<style scoped>\n",
       "    .dataframe tbody tr th:only-of-type {\n",
       "        vertical-align: middle;\n",
       "    }\n",
       "\n",
       "    .dataframe tbody tr th {\n",
       "        vertical-align: top;\n",
       "    }\n",
       "\n",
       "    .dataframe thead th {\n",
       "        text-align: right;\n",
       "    }\n",
       "</style>\n",
       "<table border=\"1\" class=\"dataframe\">\n",
       "  <thead>\n",
       "    <tr style=\"text-align: right;\">\n",
       "      <th></th>\n",
       "      <th>Sex</th>\n",
       "      <th>Length</th>\n",
       "      <th>Diameter</th>\n",
       "      <th>Height</th>\n",
       "      <th>Whole weight</th>\n",
       "      <th>Shucked weight</th>\n",
       "      <th>Viscera weight</th>\n",
       "      <th>Shell weight</th>\n",
       "      <th>Rings</th>\n",
       "    </tr>\n",
       "  </thead>\n",
       "  <tbody>\n",
       "    <tr>\n",
       "      <th>0</th>\n",
       "      <td>0</td>\n",
       "      <td>0.455</td>\n",
       "      <td>0.365</td>\n",
       "      <td>0.095</td>\n",
       "      <td>0.5140</td>\n",
       "      <td>0.2245</td>\n",
       "      <td>0.1010</td>\n",
       "      <td>0.150</td>\n",
       "      <td>15</td>\n",
       "    </tr>\n",
       "    <tr>\n",
       "      <th>1</th>\n",
       "      <td>0</td>\n",
       "      <td>0.350</td>\n",
       "      <td>0.265</td>\n",
       "      <td>0.090</td>\n",
       "      <td>0.2255</td>\n",
       "      <td>0.0995</td>\n",
       "      <td>0.0485</td>\n",
       "      <td>0.070</td>\n",
       "      <td>7</td>\n",
       "    </tr>\n",
       "    <tr>\n",
       "      <th>2</th>\n",
       "      <td>1</td>\n",
       "      <td>0.530</td>\n",
       "      <td>0.420</td>\n",
       "      <td>0.135</td>\n",
       "      <td>0.6770</td>\n",
       "      <td>0.2565</td>\n",
       "      <td>0.1415</td>\n",
       "      <td>0.210</td>\n",
       "      <td>9</td>\n",
       "    </tr>\n",
       "    <tr>\n",
       "      <th>3</th>\n",
       "      <td>0</td>\n",
       "      <td>0.440</td>\n",
       "      <td>0.365</td>\n",
       "      <td>0.125</td>\n",
       "      <td>0.5160</td>\n",
       "      <td>0.2155</td>\n",
       "      <td>0.1140</td>\n",
       "      <td>0.155</td>\n",
       "      <td>10</td>\n",
       "    </tr>\n",
       "    <tr>\n",
       "      <th>4</th>\n",
       "      <td>2</td>\n",
       "      <td>0.330</td>\n",
       "      <td>0.255</td>\n",
       "      <td>0.080</td>\n",
       "      <td>0.2050</td>\n",
       "      <td>0.0895</td>\n",
       "      <td>0.0395</td>\n",
       "      <td>0.055</td>\n",
       "      <td>7</td>\n",
       "    </tr>\n",
       "  </tbody>\n",
       "</table>\n",
       "</div>"
      ],
      "text/plain": [
       "   Sex  Length  Diameter  Height  Whole weight  Shucked weight  \\\n",
       "0    0   0.455     0.365   0.095        0.5140          0.2245   \n",
       "1    0   0.350     0.265   0.090        0.2255          0.0995   \n",
       "2    1   0.530     0.420   0.135        0.6770          0.2565   \n",
       "3    0   0.440     0.365   0.125        0.5160          0.2155   \n",
       "4    2   0.330     0.255   0.080        0.2050          0.0895   \n",
       "\n",
       "   Viscera weight  Shell weight  Rings  \n",
       "0          0.1010         0.150     15  \n",
       "1          0.0485         0.070      7  \n",
       "2          0.1415         0.210      9  \n",
       "3          0.1140         0.155     10  \n",
       "4          0.0395         0.055      7  "
>>>>>>> 7d8d0426a402e0efdafa5fc48d0b80457a2cfb2c
      ]
     },
     "execution_count": 5,
     "metadata": {},
     "output_type": "execute_result"
    }
   ],
   "source": [
    "codes, uniques = pd.factorize(abalone.Sex)\n",
    "abalone.Sex = codes\n",
    "print(f'Sex unique: {abalone.Sex.unique()}')\n",
    "abalone.head()"
   ]
  },
  {
   "cell_type": "markdown",
   "metadata": {
    "id": "spdHycsFznSn"
   },
   "source": [
    "1.1. С помощью sklearn.preprocessing.StandardScaler нормализовать значения признаков и построить для нормализовапнного датасета KNeighborsClassifier (без использования конвееров)"
   ]
  },
  {
   "cell_type": "code",
   "execution_count": 6,
   "metadata": {
    "id": "FXgT3jevznSp"
   },
   "outputs": [],
   "source": [
    "from sklearn.preprocessing import StandardScaler\n",
    "from sklearn.neighbors import KNeighborsClassifier\n",
    "from sklearn.model_selection import train_test_split\n",
    "from sklearn.metrics import classification_report as clfrep"
   ]
  },
  {
   "cell_type": "code",
   "execution_count": 7,
   "metadata": {
    "colab": {
     "base_uri": "https://localhost:8080/"
    },
    "id": "E-KW4MYbznSr",
    "outputId": "d9658271-f9ba-4ba2-bb78-8fa4f86556e0"
   },
   "outputs": [
    {
     "name": "stdout",
     "output_type": "stream",
     "text": [
      "shape of features:\n",
      " (4177, 8)\n",
      "sample features:\n",
      " [[-0.57455813 -0.43214879 -1.06442415 -0.64189823 -0.60768536 -0.72621157\n",
      "  -0.63821689  1.57154357]\n",
      " [-1.44898585 -1.439929   -1.18397831 -1.23027711 -1.17090984 -1.20522124\n",
      "  -1.21298732 -0.91001299]\n",
      " [ 0.05003309  0.12213032 -0.10799087 -0.30946926 -0.4634999  -0.35668983\n",
      "  -0.20713907 -0.28962385]\n",
      " [-0.69947638 -0.43214879 -0.34709919 -0.63781934 -0.64823753 -0.60759966\n",
      "  -0.60229374  0.02057072]\n",
      " [-1.61554351 -1.54070702 -1.42308663 -1.27208566 -1.2159678  -1.28733718\n",
      "  -1.32075677 -0.91001299]]\n"
     ]
    }
   ],
   "source": [
    "scaler = StandardScaler()\n",
    "features = scaler.fit_transform(abalone.iloc[:,1:].values)\n",
    "print(f'shape of features:\\n {features.shape}')\n",
    "print(f'sample features:\\n {features[:5]}')"
   ]
  },
  {
   "cell_type": "code",
   "execution_count": 8,
   "metadata": {
    "id": "yuHHsDbHznSt"
   },
   "outputs": [],
   "source": [
    "X_train, X_test, y_train, y_test = train_test_split(features, abalone.Sex.values, shuffle=True)"
   ]
  },
  {
   "cell_type": "code",
   "execution_count": 9,
   "metadata": {
    "colab": {
     "base_uri": "https://localhost:8080/"
    },
    "id": "ilw5oK6KznSv",
    "outputId": "a42d0642-c611-4615-f3c5-cad9b8648a29"
   },
   "outputs": [
    {
<<<<<<< HEAD
      "cell_type": "code",
      "metadata": {
        "colab": {
          "base_uri": "https://localhost:8080/"
        },
        "id": "nROreUmdznS2",
        "outputId": "cf6cf1b6-633c-4da8-d613-3d49f7e77596"
      },
      "source": [
        "pipe = Pipeline([('scaler',StandardScaler()),('clf', KNeighborsClassifier())])\n",
        "pipe.fit(X_train,y_train)\n",
        "pipe.score(X_test, y_test)"
      ],
      "execution_count": 10,
      "outputs": [
        {
          "output_type": "execute_result",
          "data": {
            "text/plain": [
              "0.48229665071770333"
            ]
          },
          "metadata": {
            "tags": []
          },
          "execution_count": 10
        }
=======
     "data": {
      "text/plain": [
       "0.5358851674641149"
>>>>>>> 7d8d0426a402e0efdafa5fc48d0b80457a2cfb2c
      ]
     },
     "execution_count": 9,
     "metadata": {},
     "output_type": "execute_result"
    }
   ],
   "source": [
    "clf_knn = KNeighborsClassifier().fit(X_train, y_train)\n",
    "clf_knn.score(X_test, y_test)"
   ]
  },
  {
   "cell_type": "markdown",
   "metadata": {
    "id": "oh4ncgOXznSx"
   },
   "source": [
    "1.2. То же самое и использованием sklearn.pipeline.Pipeline"
   ]
  },
  {
   "cell_type": "code",
   "execution_count": 10,
   "metadata": {
    "id": "vOFQg2KFznSx"
   },
   "outputs": [],
   "source": [
    "from sklearn.pipeline import Pipeline"
   ]
  },
  {
   "cell_type": "code",
   "execution_count": 11,
   "metadata": {
    "colab": {
     "base_uri": "https://localhost:8080/"
    },
    "id": "nROreUmdznS2",
    "outputId": "1bfdaa51-2fdc-4e31-d828-76192d3ce49d"
   },
   "outputs": [
    {
     "data": {
      "text/plain": [
       "0.5358851674641149"
      ]
     },
     "execution_count": 11,
     "metadata": {},
     "output_type": "execute_result"
    }
   ],
   "source": [
    "pipe = Pipeline([('scaler',StandardScaler()),('clf', KNeighborsClassifier())])\n",
    "pipe.fit(X_train,y_train)\n",
    "pipe.score(X_test, y_test)"
   ]
  },
  {
   "cell_type": "markdown",
   "metadata": {
    "id": "NlhuW8WEznS4"
   },
   "source": [
    "1.3. С помощью GridSearchCV произвести подбор гиперпараметра KNeighborsClassifier (n_neighbors) и выведите значение гиперпараметра и метрику для наилучшей модели"
   ]
  },
  {
   "cell_type": "code",
   "execution_count": 12,
   "metadata": {
    "id": "7By0Z1YeznS6"
   },
   "outputs": [],
   "source": [
    "from sklearn.model_selection import GridSearchCV"
   ]
  },
  {
   "cell_type": "code",
   "execution_count": 13,
   "metadata": {
    "colab": {
     "base_uri": "https://localhost:8080/"
    },
    "id": "nAednAd8znS7",
    "outputId": "3cc05c73-9404-4642-ed19-9e06db9a4bbf"
   },
   "outputs": [
    {
     "name": "stdout",
     "output_type": "stream",
     "text": [
      "Fitting 5 folds for each of 19 candidates, totalling 95 fits\n"
     ]
    },
    {
<<<<<<< HEAD
      "cell_type": "code",
      "metadata": {
        "colab": {
          "base_uri": "https://localhost:8080/"
        },
        "id": "nAednAd8znS7",
        "outputId": "3a6e5b4b-3e6b-4bd8-b383-b879735aae62"
      },
      "source": [
        "params = {'n_neighbors':range(1, 20)}\n",
        "grid = GridSearchCV(KNeighborsClassifier(), params, cv=5, verbose=1).fit(X_train, y_train)"
      ],
      "execution_count": 12,
      "outputs": [
        {
          "output_type": "stream",
          "text": [
            "Fitting 5 folds for each of 19 candidates, totalling 95 fits\n"
          ],
          "name": "stdout"
        },
        {
          "output_type": "stream",
          "text": [
            "[Parallel(n_jobs=1)]: Using backend SequentialBackend with 1 concurrent workers.\n",
            "[Parallel(n_jobs=1)]: Done  95 out of  95 | elapsed:    6.7s finished\n"
          ],
          "name": "stderr"
        }
      ]
=======
     "name": "stderr",
     "output_type": "stream",
     "text": [
      "[Parallel(n_jobs=1)]: Using backend SequentialBackend with 1 concurrent workers.\n",
      "[Parallel(n_jobs=1)]: Done  95 out of  95 | elapsed:    2.5s finished\n"
     ]
    }
   ],
   "source": [
    "params = {'n_neighbors':range(1, 20)}\n",
    "grid = GridSearchCV(KNeighborsClassifier(), params, cv=5, verbose=1).fit(X_train, y_train)"
   ]
  },
  {
   "cell_type": "code",
   "execution_count": 14,
   "metadata": {
    "colab": {
     "base_uri": "https://localhost:8080/"
>>>>>>> 7d8d0426a402e0efdafa5fc48d0b80457a2cfb2c
    },
    "id": "d8LLzYuNznS9",
    "outputId": "742c7f33-539d-483c-b14d-6079f60e3ec1"
   },
   "outputs": [
    {
<<<<<<< HEAD
      "cell_type": "code",
      "metadata": {
        "colab": {
          "base_uri": "https://localhost:8080/"
        },
        "id": "d8LLzYuNznS9",
        "outputId": "1aeb721c-4505-4bdc-b391-0dfa730bbb66"
      },
      "source": [
        "grid.best_params_, grid.best_score_"
      ],
      "execution_count": 13,
      "outputs": [
        {
          "output_type": "execute_result",
          "data": {
            "text/plain": [
              "({'n_neighbors': 1}, 0.49840612277134894)"
            ]
          },
          "metadata": {
            "tags": []
          },
          "execution_count": 13
        }
=======
     "data": {
      "text/plain": [
       "({'n_neighbors': 16}, 0.5456614233812822)"
>>>>>>> 7d8d0426a402e0efdafa5fc48d0b80457a2cfb2c
      ]
     },
     "execution_count": 14,
     "metadata": {},
     "output_type": "execute_result"
    }
   ],
   "source": [
    "grid.best_params_, grid.best_score_"
   ]
  },
  {
   "cell_type": "markdown",
   "metadata": {
    "id": "-kG6YWfxznS_"
   },
   "source": [
    "2.1. Продемонстрировать работу DecisionTreeClassifier, посчитать метрики качества на отложенной выборке"
   ]
  },
  {
   "cell_type": "code",
   "execution_count": 15,
   "metadata": {
    "id": "CbsF3hFBznS_"
   },
   "outputs": [],
   "source": [
    "from sklearn.tree import DecisionTreeClassifier"
   ]
  },
  {
   "cell_type": "code",
   "execution_count": 16,
   "metadata": {
    "colab": {
     "base_uri": "https://localhost:8080/"
    },
    "id": "7-T_4kQjznTA",
    "outputId": "14c13c72-a0b6-417f-dd49-12cc6c926363"
   },
   "outputs": [
    {
     "data": {
      "text/plain": [
       "0.509090909090909"
      ]
     },
     "execution_count": 16,
     "metadata": {},
     "output_type": "execute_result"
    }
   ],
   "source": [
    "clf_dt = DecisionTreeClassifier().fit(X_train,y_train)\n",
    "clf_dt.score(X_test, y_test)"
   ]
  },
  {
   "cell_type": "markdown",
   "metadata": {
    "id": "cUiQq30MznTB"
   },
   "source": [
    "2.2. С помощью GridSearchCV произвести подбор гиперпараметров для поиск наилучшего дерева (перебрать max_depth, max_features и может быть что-то ещё)"
   ]
  },
  {
   "cell_type": "code",
   "execution_count": 17,
   "metadata": {
    "colab": {
     "base_uri": "https://localhost:8080/"
    },
    "id": "FANpkhMxznTB",
    "outputId": "5db8aa65-e9f0-4c2d-c7c7-dae80b98d273"
   },
   "outputs": [
    {
<<<<<<< HEAD
      "cell_type": "code",
      "metadata": {
        "id": "CbsF3hFBznS_"
      },
      "source": [
        "from sklearn.tree import DecisionTreeClassifier"
      ],
      "execution_count": 14,
      "outputs": []
    },
    {
      "cell_type": "code",
      "metadata": {
        "colab": {
          "base_uri": "https://localhost:8080/"
        },
        "id": "7-T_4kQjznTA",
        "outputId": "dd5170ab-8fb5-4b3c-e1da-96f4f66fd6f5"
      },
      "source": [
        "clf_dt = DecisionTreeClassifier().fit(X_train,y_train)\n",
        "clf_dt.score(X_test, y_test)"
      ],
      "execution_count": 15,
      "outputs": [
        {
          "output_type": "execute_result",
          "data": {
            "text/plain": [
              "0.5052631578947369"
            ]
          },
          "metadata": {
            "tags": []
          },
          "execution_count": 15
        }
      ]
=======
     "name": "stderr",
     "output_type": "stream",
     "text": [
      "[Parallel(n_jobs=1)]: Using backend SequentialBackend with 1 concurrent workers.\n"
     ]
>>>>>>> 7d8d0426a402e0efdafa5fc48d0b80457a2cfb2c
    },
    {
     "name": "stdout",
     "output_type": "stream",
     "text": [
      "Fitting 5 folds for each of 48 candidates, totalling 240 fits\n"
     ]
    },
    {
<<<<<<< HEAD
      "cell_type": "code",
      "metadata": {
        "colab": {
          "base_uri": "https://localhost:8080/"
        },
        "id": "FANpkhMxznTB",
        "outputId": "7ef50759-ee5b-415f-e8ea-a43aa70c31ec"
      },
      "source": [
        "params = {'max_depth':range(2,10,2), 'min_samples_split':range(2,10,2), 'max_features':range(2, 8,2)}\n",
        "grid = GridSearchCV(DecisionTreeClassifier(), params, cv=5, verbose=1).fit(X_train, y_train)"
      ],
      "execution_count": 16,
      "outputs": [
        {
          "output_type": "stream",
          "text": [
            "[Parallel(n_jobs=1)]: Using backend SequentialBackend with 1 concurrent workers.\n"
          ],
          "name": "stderr"
        },
        {
          "output_type": "stream",
          "text": [
            "Fitting 5 folds for each of 48 candidates, totalling 240 fits\n"
          ],
          "name": "stdout"
        },
        {
          "output_type": "stream",
          "text": [
            "[Parallel(n_jobs=1)]: Done 240 out of 240 | elapsed:    1.7s finished\n"
          ],
          "name": "stderr"
        }
      ]
=======
     "name": "stderr",
     "output_type": "stream",
     "text": [
      "[Parallel(n_jobs=1)]: Done 240 out of 240 | elapsed:    0.9s finished\n"
     ]
    }
   ],
   "source": [
    "params = {'max_depth':range(2,10,2), 'min_samples_split':range(2,10,2), 'max_features':range(2, 8,2)}\n",
    "grid = GridSearchCV(DecisionTreeClassifier(), params, cv=5, verbose=1).fit(X_train, y_train)"
   ]
  },
  {
   "cell_type": "code",
   "execution_count": 18,
   "metadata": {
    "colab": {
     "base_uri": "https://localhost:8080/"
>>>>>>> 7d8d0426a402e0efdafa5fc48d0b80457a2cfb2c
    },
    "id": "KnMyKFs_znTC",
    "outputId": "ea71717f-c83d-4de4-d35c-65f62b1cbbbd"
   },
   "outputs": [
    {
<<<<<<< HEAD
      "cell_type": "code",
      "metadata": {
        "colab": {
          "base_uri": "https://localhost:8080/"
        },
        "id": "KnMyKFs_znTC",
        "outputId": "14f73bd8-1136-4d20-8d8d-2ec12bd705d7"
      },
      "source": [
        "grid.score(X_test,y_test)"
      ],
      "execution_count": 17,
      "outputs": [
        {
          "output_type": "execute_result",
          "data": {
            "text/plain": [
              "0.47081339712918663"
            ]
          },
          "metadata": {
            "tags": []
          },
          "execution_count": 17
        }
=======
     "data": {
      "text/plain": [
       "0.5598086124401914"
>>>>>>> 7d8d0426a402e0efdafa5fc48d0b80457a2cfb2c
      ]
     },
     "execution_count": 18,
     "metadata": {},
     "output_type": "execute_result"
    }
   ],
   "source": [
    "grid.score(X_test,y_test)"
   ]
  },
  {
   "cell_type": "markdown",
   "metadata": {
    "id": "yiCw3CsTznTD"
   },
   "source": [
    "Для полученного наилучшего дерева построить график feature_importances и дополнительно напечатать 3 наиболее важных признака, отсортиров их по убыванию по важности"
   ]
  },
  {
   "cell_type": "code",
   "execution_count": 52,
   "metadata": {
    "id": "MEYNpfU1znTE"
   },
   "outputs": [
    {
     "data": {
      "image/png": "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\n",
      "text/plain": [
       "<Figure size 864x432 with 1 Axes>"
      ]
     },
     "metadata": {
      "needs_background": "light"
     },
     "output_type": "display_data"
    }
   ],
   "source": [
    "import matplotlib.pyplot as plt\n",
    "import numpy as np\n",
    "\n",
    "features_imp = grid.best_estimator_.feature_importances_\n",
    "n_features = abalone.shape[1]\n",
    "\n",
    "plt.subplots(figsize=(12,6))\n",
    "plt.bar([x for x in range(len(features_imp))], features_imp)\n",
    "plt.xticks(range(abalone.shape[1]),abalone.columns)\n",
    "plt.ylabel(\"Важность признака\")\n",
    "plt.xlabel(\"Признак\")\n",
    "plt.show()"
   ]
  },
  {
   "cell_type": "markdown",
   "metadata": {
    "id": "nYrfFZFcznTF"
   },
   "source": [
    "3.1. Продемонстрировать работу случайного леса RandomForestClassifier"
   ]
  },
  {
   "cell_type": "code",
   "execution_count": 20,
   "metadata": {
    "colab": {
     "base_uri": "https://localhost:8080/"
    },
    "id": "RkVUGbFFznTH",
    "outputId": "4beb1574-424b-4cd4-cc74-11dc91509e06"
   },
   "outputs": [
    {
<<<<<<< HEAD
      "cell_type": "code",
      "metadata": {
        "id": "MEYNpfU1znTE",
        "colab": {
          "base_uri": "https://localhost:8080/",
          "height": 389
        },
        "outputId": "4e8957d5-1d18-4369-ebc5-760cbeefc322"
      },
      "source": [
        "import matplotlib.pyplot as plt\n",
        "import numpy as np\n",
        "\n",
        "features_imp = grid.best_estimator_.feature_importances_\n",
        "n_features = abalone.shape[1]\n",
        "\n",
        "plt.subplots(figsize=(12,6))\n",
        "plt.bar([x for x in range(len(features_imp))], features_imp)\n",
        "plt.xticks(range(abalone.shape[1]),abalone.columns)\n",
        "plt.ylabel(\"Важность признака\")\n",
        "plt.xlabel(\"Признак\")\n",
        "plt.show()"
      ],
      "execution_count": 18,
      "outputs": [
        {
          "output_type": "display_data",
          "data": {
            "image/png": "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\n",
            "text/plain": [
              "<Figure size 864x432 with 1 Axes>"
            ]
          },
          "metadata": {
            "tags": [],
            "needs_background": "light"
          }
        }
      ]
    },
    {
      "cell_type": "markdown",
      "metadata": {
        "id": "nYrfFZFcznTF"
      },
      "source": [
        "3.1. Продемонстрировать работу случайного леса RandomForestClassifier"
=======
     "data": {
      "text/plain": [
       "0.5464114832535886"
>>>>>>> 7d8d0426a402e0efdafa5fc48d0b80457a2cfb2c
      ]
     },
     "execution_count": 20,
     "metadata": {},
     "output_type": "execute_result"
    }
   ],
   "source": [
    "from sklearn.ensemble import RandomForestClassifier\n",
    "forest = RandomForestClassifier().fit(X_train,y_train)\n",
    "forest.score(X_test,y_test)"
   ]
  },
  {
   "cell_type": "code",
   "execution_count": 21,
   "metadata": {
    "colab": {
     "base_uri": "https://localhost:8080/"
    },
    "id": "fQfR2YQ_znTJ",
    "outputId": "8ba5cc7a-3b43-4f29-d7e6-7c57b736aa26"
   },
   "outputs": [
    {
<<<<<<< HEAD
      "cell_type": "code",
      "metadata": {
        "colab": {
          "base_uri": "https://localhost:8080/"
        },
        "id": "RkVUGbFFznTH",
        "outputId": "3c7f0cc6-7970-4dd2-a4a1-9683551034b7"
      },
      "source": [
        "from sklearn.ensemble import RandomForestClassifier\n",
        "forest = RandomForestClassifier().fit(X_train,y_train)\n",
        "forest.score(X_test,y_test)"
      ],
      "execution_count": 19,
      "outputs": [
        {
          "output_type": "execute_result",
          "data": {
            "text/plain": [
              "0.4258373205741627"
            ]
          },
          "metadata": {
            "tags": []
          },
          "execution_count": 19
        }
      ]
    },
    {
      "cell_type": "code",
      "metadata": {
        "colab": {
          "base_uri": "https://localhost:8080/"
        },
        "id": "fQfR2YQ_znTJ",
        "outputId": "9efd94ae-cda6-419c-8df6-39deb5a8e5b9"
      },
      "source": [
        "forest_params={'n_estimators':range(10, 400, 10), 'max_depth':range(2, 10, 2)}\n",
        "grid = GridSearchCV(RandomForestClassifier(), forest_params, cv=5, n_jobs=-1, verbose=True).fit(X_train,y_train)\n",
        "grid.score(X_test, y_test)"
      ],
      "execution_count": 21,
      "outputs": [
        {
          "output_type": "stream",
          "text": [
            "Fitting 5 folds for each of 156 candidates, totalling 780 fits\n"
          ],
          "name": "stdout"
        },
        {
          "output_type": "stream",
          "text": [
            "[Parallel(n_jobs=-1)]: Using backend LokyBackend with 2 concurrent workers.\n",
            "[Parallel(n_jobs=-1)]: Done  80 tasks      | elapsed:   15.7s\n",
            "[Parallel(n_jobs=-1)]: Done 230 tasks      | elapsed:  1.5min\n",
            "[Parallel(n_jobs=-1)]: Done 480 tasks      | elapsed:  3.6min\n",
            "[Parallel(n_jobs=-1)]: Done 780 out of 780 | elapsed:  7.5min finished\n"
          ],
          "name": "stderr"
        },
        {
          "output_type": "execute_result",
          "data": {
            "text/plain": [
              "0.42200956937799045"
            ]
          },
          "metadata": {
            "tags": []
          },
          "execution_count": 21
        }
      ]
=======
     "name": "stdout",
     "output_type": "stream",
     "text": [
      "Fitting 5 folds for each of 76 candidates, totalling 380 fits\n"
     ]
    },
    {
     "name": "stderr",
     "output_type": "stream",
     "text": [
      "[Parallel(n_jobs=-1)]: Using backend LokyBackend with 16 concurrent workers.\n",
      "[Parallel(n_jobs=-1)]: Done  18 tasks      | elapsed:    1.1s\n",
      "[Parallel(n_jobs=-1)]: Done 168 tasks      | elapsed:    2.6s\n",
      "[Parallel(n_jobs=-1)]: Done 380 out of 380 | elapsed:    5.3s finished\n"
     ]
>>>>>>> 7d8d0426a402e0efdafa5fc48d0b80457a2cfb2c
    },
    {
     "data": {
      "text/plain": [
       "0.5521531100478468"
      ]
     },
     "execution_count": 21,
     "metadata": {},
     "output_type": "execute_result"
    }
   ],
   "source": [
    "forest_params={'n_estimators':range(5, 100, 5), 'max_depth':range(2, 10, 2)}\n",
    "grid = GridSearchCV(RandomForestClassifier(), forest_params, cv=5, n_jobs=-1, verbose=True).fit(X_train,y_train)\n",
    "grid.score(X_test, y_test)"
   ]
  },
  {
   "cell_type": "markdown",
   "metadata": {
    "id": "D3ZB6XDZ4qli"
   },
   "source": [
    "# Итог\n",
    "Наиболее точной моделью при учете метрики accuracy является RandomForest."
   ]
  },
  {
   "cell_type": "code",
   "execution_count": null,
   "metadata": {},
   "outputs": [],
   "source": []
  }
 ],
 "metadata": {
  "colab": {
   "collapsed_sections": [],
   "name": "05-tree-tsepkov-yaroslav.ipynb",
   "provenance": []
  },
  "kernelspec": {
   "display_name": "Python 3",
   "language": "python",
   "name": "python3"
  },
  "language_info": {
   "codemirror_mode": {
    "name": "ipython",
    "version": 3
   },
   "file_extension": ".py",
   "mimetype": "text/x-python",
   "name": "python",
   "nbconvert_exporter": "python",
   "pygments_lexer": "ipython3",
   "version": "3.8.5"
  }
 },
 "nbformat": 4,
 "nbformat_minor": 1
}
